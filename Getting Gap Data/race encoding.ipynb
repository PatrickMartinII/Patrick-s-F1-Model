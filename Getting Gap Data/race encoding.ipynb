{
 "cells": [
  {
   "cell_type": "code",
   "execution_count": 1,
   "id": "1ae5bb47",
   "metadata": {},
   "outputs": [],
   "source": [
    "import pandas as pd\n",
    "\n",
    "# Step 1: Load your CSV file\n",
    "#filePath = input(\"Please enter filepath to open: \")\n",
    "filePath = r\"C:\\Users\\merli\\Documents\\ERDOS\\erdos_ds_f1\\data_f1db\\f1db-races.csv\"\n",
    "df = pd.read_csv(filePath)\n",
    "\n",
    "# Step 2: One-hot encode the circuit type column\n",
    "df_encoded = pd.get_dummies(df, columns=['circuitType'])\n",
    "df_encoded.rename(columns={'id': 'raceId'}, inplace=True)\n",
    "\n",
    "df_encoded = df_encoded[[\"raceId\",\"circuitType_RACE\",\"circuitType_ROAD\",\"circuitType_STREET\"]]\n",
    "\n",
    "# Step 3: Save it back to a CSV (optional)\n",
    "#df_encoded.to_csv('your_encoded_file.csv', index=False)\n",
    "#df_encoded.head(-5)\n",
    "\n",
    "df2 = pd.read_csv(r\"C:\\Users\\merli\\Documents\\ERDOS\\erdos_ds_f1\\Merlin preview\\Fastest Qual time gaps (No DNF).csv\")\n",
    "\n",
    "merged_df = pd.merge(df_encoded, df2, on=['raceId'], how='inner')\n",
    "\n",
    "merged_df.head()\n",
    "\n",
    "# Step 3: Save it back to a CSV (optional)\n",
    "merged_df.to_csv('gaps and circuit type (no DNF).csv', index=False)"
   ]
  },
  {
   "cell_type": "code",
   "execution_count": null,
   "id": "26de5bd1",
   "metadata": {},
   "outputs": [],
   "source": []
  }
 ],
 "metadata": {
  "kernelspec": {
   "display_name": "erdos_summer_2025",
   "language": "python",
   "name": "python3"
  },
  "language_info": {
   "codemirror_mode": {
    "name": "ipython",
    "version": 3
   },
   "file_extension": ".py",
   "mimetype": "text/x-python",
   "name": "python",
   "nbconvert_exporter": "python",
   "pygments_lexer": "ipython3",
   "version": "3.12.10"
  }
 },
 "nbformat": 4,
 "nbformat_minor": 5
}
