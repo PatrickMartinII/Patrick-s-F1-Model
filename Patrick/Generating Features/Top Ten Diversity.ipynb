{
 "cells": [
  {
   "cell_type": "code",
   "execution_count": 1,
   "id": "6080a55c",
   "metadata": {},
   "outputs": [],
   "source": [
    "import pandas as pd"
   ]
  },
  {
   "cell_type": "code",
   "execution_count": 2,
   "id": "1eecf5b9",
   "metadata": {},
   "outputs": [],
   "source": [
    "start_position_data_file = pd.read_csv(r\"/home/winter-storm/f1-data-project/erdos_ds_f1/data_f1db/f1db-races-starting-grid-positions.csv\")\n",
    "start_position_data_file = start_position_data_file[\n",
    "    (start_position_data_file['year'] > 1985) & (start_position_data_file['year'] < 2025)\n",
    "    ]"
   ]
  },
  {
   "cell_type": "code",
   "execution_count": 3,
   "id": "a92b5fe8",
   "metadata": {},
   "outputs": [],
   "source": [
    "file_path = '/home/winter-storm/f1-data-project/erdos_ds_f1/Patrick/Feature Data Files'\n",
    "\n",
    "def compute_top_ten_constructor_diversity(df):\n",
    "    df = df.copy()\n",
    "    df = df[df['positionNumber'] > 0]  # remove DNS (Did Not Start) or invalid grid values if needed\n",
    "    diversity_list = []\n",
    "\n",
    "    for race_id in df['raceId'].unique():\n",
    "        race_data = df[df['raceId'] == race_id]\n",
    "        top_10 = race_data.nsmallest(10, 'positionNumber')  # get top 10 starting grid positions\n",
    "        constructors = top_10['constructorId'].nunique()  # count unique constructors\n",
    "        diversity_list.append({'raceId': race_id, 'topTenDiversity': constructors})\n",
    "\n",
    "    return pd.DataFrame(diversity_list)\n",
    "compute_top_ten_constructor_diversity(start_position_data_file).to_csv(file_path + '/Top Ten Diversity.csv', \n",
    "                                                                       index=False)"
   ]
  }
 ],
 "metadata": {
  "kernelspec": {
   "display_name": "base",
   "language": "python",
   "name": "python3"
  },
  "language_info": {
   "codemirror_mode": {
    "name": "ipython",
    "version": 3
   },
   "file_extension": ".py",
   "mimetype": "text/x-python",
   "name": "python",
   "nbconvert_exporter": "python",
   "pygments_lexer": "ipython3",
   "version": "3.12.7"
  }
 },
 "nbformat": 4,
 "nbformat_minor": 5
}
