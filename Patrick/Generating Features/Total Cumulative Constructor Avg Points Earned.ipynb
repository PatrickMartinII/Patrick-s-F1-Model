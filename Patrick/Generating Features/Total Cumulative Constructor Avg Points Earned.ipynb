{
 "cells": [
  {
   "cell_type": "code",
   "execution_count": 1,
   "id": "ebbdfee5",
   "metadata": {},
   "outputs": [],
   "source": [
    "import pandas as pd"
   ]
  },
  {
   "cell_type": "code",
   "execution_count": 2,
   "id": "d2c6a09a",
   "metadata": {},
   "outputs": [
    {
     "name": "stderr",
     "output_type": "stream",
     "text": [
      "/tmp/ipykernel_941762/2212585079.py:2: DtypeWarning: Columns (31,32) have mixed types. Specify dtype option on import or set low_memory=False.\n",
      "  all_race_results_data = pd.read_csv(r\"/home/winter-storm/f1-data-project/erdos_ds_f1/data_f1db/f1db-races-race-results.csv\")\n"
     ]
    }
   ],
   "source": [
    "# Read the files\n",
    "all_race_results_data = pd.read_csv(r\"/home/winter-storm/f1-data-project/erdos_ds_f1/data_f1db/f1db-races-race-results.csv\")\n",
    "no_DNF_results_data_file = pd.read_csv(r\"/home/winter-storm/f1-data-project/erdos_ds_f1/cleaned_data/f1db-races-race-results-NO-DNF.csv\")\n",
    "\n",
    "# Create list of unique race ids\n",
    "race_id_list = no_DNF_results_data_file['raceId'].unique()"
   ]
  },
  {
   "cell_type": "code",
   "execution_count": 3,
   "id": "59214dc0",
   "metadata": {},
   "outputs": [],
   "source": [
    "# Step 0: Ensure data is sorted properly\n",
    "all_race_results_data = all_race_results_data.sort_values(by=['year', 'raceId'])\n",
    "\n",
    "# Step 1: Calculate constAvgPointsEarned for each constructor per race\n",
    "# Group by raceId, constructorId, driverId to get driver-level points\n",
    "driver_points = all_race_results_data.groupby(['raceId', 'constructorId', 'driverId'])['points'].sum().reset_index()\n",
    "\n",
    "# Group again to compute average points per constructor (avg across drivers)\n",
    "constructor_avg_points = driver_points.groupby(['raceId', 'constructorId'])['points'].mean().reset_index()\n",
    "constructor_avg_points = constructor_avg_points.rename(columns={'points': 'constAvgPointsEarned'})\n",
    "\n",
    "# Add year to this dataframe for seasonal filtering\n",
    "race_years = all_race_results_data[['raceId', 'year']].drop_duplicates()\n",
    "constructor_avg_points = constructor_avg_points.merge(race_years, on='raceId', how='left')\n",
    "\n",
    "# Step 2: Compute cumulative sum of constAvgPointsEarned up to each race (excluding current race)\n",
    "result_rows = []\n",
    "\n",
    "# Loop through races in order\n",
    "for race_id, year in race_years.sort_values(by='raceId').itertuples(index=False):\n",
    "    # Get constructors that participated in this race\n",
    "    current_const_ids = constructor_avg_points[\n",
    "        constructor_avg_points['raceId'] == race_id\n",
    "    ]['constructorId'].unique()\n",
    "    \n",
    "    # Get all previous races in the same year\n",
    "    past_data = constructor_avg_points[\n",
    "        (constructor_avg_points['year'] == year) &\n",
    "        (constructor_avg_points['raceId'] < race_id)\n",
    "    ]\n",
    "    \n",
    "    # Filter to constructors that are in the current race only\n",
    "    past_data_filtered = past_data[past_data['constructorId'].isin(current_const_ids)]\n",
    "    \n",
    "    if not past_data_filtered.empty:\n",
    "        # Cumulative sum per constructor\n",
    "        cumulative = past_data_filtered.groupby('constructorId')['constAvgPointsEarned'].sum().reset_index()\n",
    "        cumulative['raceId'] = race_id\n",
    "        cumulative = cumulative.rename(columns={'constAvgPointsEarned': 'cumConstAvgPoints'})\n",
    "        result_rows.append(cumulative)\n",
    "\n",
    "# Step 3: Concatenate results and sort\n",
    "final_df = pd.concat(result_rows, ignore_index=True)\n",
    "final_df = final_df[['raceId', 'constructorId', 'cumConstAvgPoints']].sort_values(by=['raceId', 'constructorId'])"
   ]
  },
  {
   "cell_type": "code",
   "execution_count": 4,
   "id": "22baf69a",
   "metadata": {},
   "outputs": [],
   "source": [
    "# Write function to generate dataframe with Total Cumulative Constructor Average Points Earned (TCCAPE)\n",
    "\n",
    "def get_total_cum_const_avg_points(input_race_id_list):\n",
    "    total_cum = []\n",
    "\n",
    "    for race_id in input_race_id_list:\n",
    "        this_race = final_df[final_df['raceId'] == race_id]\n",
    "        race_points = this_race['cumConstAvgPoints'].to_list()\n",
    "\n",
    "        total_cum.append({'raceId': race_id, 'TCCAPE': sum(race_points)})\n",
    "    \n",
    "    return pd.DataFrame(total_cum)\n",
    "get_total_cum_const_avg_points(race_id_list).to_csv('/home/winter-storm/f1-data-project/erdos_ds_f1/Patrick/Feature Data Files/TCCAPE.csv',\n",
    "                                                    index=False)"
   ]
  }
 ],
 "metadata": {
  "kernelspec": {
   "display_name": "base",
   "language": "python",
   "name": "python3"
  },
  "language_info": {
   "codemirror_mode": {
    "name": "ipython",
    "version": 3
   },
   "file_extension": ".py",
   "mimetype": "text/x-python",
   "name": "python",
   "nbconvert_exporter": "python",
   "pygments_lexer": "ipython3",
   "version": "3.12.7"
  }
 },
 "nbformat": 4,
 "nbformat_minor": 5
}
