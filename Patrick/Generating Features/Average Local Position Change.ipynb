{
 "cells": [
  {
   "cell_type": "code",
   "execution_count": 1,
   "id": "19e2a2c3",
   "metadata": {},
   "outputs": [],
   "source": [
    "import pandas as pd"
   ]
  },
  {
   "cell_type": "code",
   "execution_count": 2,
   "id": "f8db3386",
   "metadata": {},
   "outputs": [
    {
     "name": "stderr",
     "output_type": "stream",
     "text": [
      "/tmp/ipykernel_954256/3409359182.py:3: DtypeWarning: Columns (31,32) have mixed types. Specify dtype option on import or set low_memory=False.\n",
      "  races_data_file = pd.read_csv(r\"/home/winter-storm/f1-data-project/erdos_ds_f1/data_f1db/f1db-races-race-results.csv\")\n"
     ]
    }
   ],
   "source": [
    "# read the files\n",
    "no_DNF_results_data_file = pd.read_csv(r\"/home/winter-storm/f1-data-project/erdos_ds_f1/cleaned_data/f1db-races-race-results-NO-DNF.csv\")\n",
    "races_data_file = pd.read_csv(r\"/home/winter-storm/f1-data-project/erdos_ds_f1/data_f1db/f1db-races-race-results.csv\")\n",
    "\n",
    "# Create list of unique race ids\n",
    "race_id_list = no_DNF_results_data_file['raceId'].unique()"
   ]
  },
  {
   "cell_type": "code",
   "execution_count": 3,
   "id": "c718addf",
   "metadata": {},
   "outputs": [],
   "source": [
    "# Get average local position change for each race id\n",
    "# Write a function to generate ALS for an input of race_id list\n",
    "\n",
    "def get_correct_positions(position):\n",
    "    position_copy = position.copy()\n",
    "    n = len(position)\n",
    "\n",
    "    for y in range(n):\n",
    "        if y+1 in position:\n",
    "            position_copy_index = position_copy.index(y+1)\n",
    "            position_copy.pop(position_copy_index)\n",
    "        if y+1 not in position:\n",
    "            position_copy.sort()\n",
    "            for z in range(len(position_copy)):\n",
    "                position_index = position.index(position_copy[z])\n",
    "                position[position_index] = y+1\n",
    "                y += 1\n",
    "            break\n",
    "\n",
    "    return position\n",
    "\n",
    "def generate_ALPC_data(input_race_id_list):\n",
    "    avg_local_pos = []\n",
    "\n",
    "    for race_id in input_race_id_list:\n",
    "        race_data = no_DNF_results_data_file[\n",
    "            (no_DNF_results_data_file['raceId'] == race_id) & \n",
    "            (no_DNF_results_data_file['positionDisplayOrder'] > 0)\n",
    "        ]\n",
    "\n",
    "        # Get final positions\n",
    "        final_positions = race_data['positionDisplayOrder'].tolist()\n",
    "        n = len(final_positions)\n",
    "\n",
    "        if n < 2:\n",
    "            avg_local_pos.append(0.0)\n",
    "            continue\n",
    "\n",
    "        true_final_positions = get_correct_positions(final_positions)\n",
    "\n",
    "        this_sum = 0\n",
    "        for i in range(n):\n",
    "            summand = 0\n",
    "            for j in range(n):\n",
    "                if i == j: continue\n",
    "                local_change = (i - j) - (true_final_positions.index(i+1) - true_final_positions.index(j+1))\n",
    "                summand += local_change\n",
    "            this_sum += abs(summand)\n",
    "\n",
    "        # Normalize by number of pairs\n",
    "        #this_sum *= 2  # because we only looped over i < j\n",
    "        avg = this_sum / (n * (n - 1))\n",
    "        avg_local_pos.append({'raceId': race_id, 'ALPC': avg})\n",
    "\n",
    "    return pd.DataFrame(avg_local_pos)\n",
    "generate_ALPC_data(race_id_list).to_csv('/home/winter-storm/f1-data-project/erdos_ds_f1/Patrick/Feature Data Files/ALPC.csv',\n",
    "                                        index=False)"
   ]
  }
 ],
 "metadata": {
  "kernelspec": {
   "display_name": "base",
   "language": "python",
   "name": "python3"
  },
  "language_info": {
   "codemirror_mode": {
    "name": "ipython",
    "version": 3
   },
   "file_extension": ".py",
   "mimetype": "text/x-python",
   "name": "python",
   "nbconvert_exporter": "python",
   "pygments_lexer": "ipython3",
   "version": "3.12.7"
  }
 },
 "nbformat": 4,
 "nbformat_minor": 5
}
