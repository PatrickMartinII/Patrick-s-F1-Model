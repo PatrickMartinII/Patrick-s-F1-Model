{
 "cells": [
  {
   "cell_type": "code",
   "execution_count": 1,
   "id": "fc503fb7",
   "metadata": {},
   "outputs": [],
   "source": [
    "import pandas as pd"
   ]
  },
  {
   "cell_type": "code",
   "execution_count": 13,
   "id": "bd6c49a5",
   "metadata": {},
   "outputs": [],
   "source": [
    "# Load the races CSV\n",
    "races_df = pd.read_csv(r\"/home/winter-storm/f1-data-project/erdos_ds_f1/data_f1db/f1db-races.csv\")\n",
    "circuits_df = pd.read_csv(r\"/home/winter-storm/f1-data-project/erdos_ds_f1/data_f1db/f1db-circuits.csv\")\n",
    "weather_df = pd.read_csv(r\"/home/winter-storm/f1-data-project/erdos_ds_f1/Patrick/race-weather-data.csv\")\n",
    "\n",
    "# If 'id' is the raceId column, rename it\n",
    "races_df = races_df.rename(columns={'id': 'raceId'})\n",
    "\n",
    "# Select only the columns of interest\n",
    "race_info_df = races_df[['raceId', 'circuitId']].drop_duplicates()\n",
    "country_info = circuits_df[['id', 'countryId']].rename(columns={'id': 'circuitId'})\n",
    "race_info_df = race_info_df.merge(country_info, on='circuitId', how='left')\n",
    "race_info_df = race_info_df[race_info_df['raceId'] > 420]\n",
    "race_info_df = race_info_df.merge(weather_df[['raceId', 'rain']], on='raceId', how='left')\n",
    "\n",
    "\n",
    "race_info_df.to_csv('/home/winter-storm/f1-data-project/erdos_ds_f1/Patrick/Feature Data Files/race categorical data.csv',\n",
    "                    index=False)"
   ]
  }
 ],
 "metadata": {
  "kernelspec": {
   "display_name": "base",
   "language": "python",
   "name": "python3"
  },
  "language_info": {
   "codemirror_mode": {
    "name": "ipython",
    "version": 3
   },
   "file_extension": ".py",
   "mimetype": "text/x-python",
   "name": "python",
   "nbconvert_exporter": "python",
   "pygments_lexer": "ipython3",
   "version": "3.12.7"
  }
 },
 "nbformat": 4,
 "nbformat_minor": 5
}
