{
 "cells": [
  {
   "cell_type": "code",
   "execution_count": 8,
   "id": "98b075d1",
   "metadata": {},
   "outputs": [],
   "source": [
    "import pandas as pd\n",
    "import numpy as np\n",
    "from sklearn.preprocessing import StandardScaler"
   ]
  },
  {
   "cell_type": "code",
   "execution_count": 9,
   "id": "4a814d7e",
   "metadata": {},
   "outputs": [],
   "source": [
    "# read the files\n",
    "no_DNF_results_data_file = pd.read_csv(r\"/home/winter-storm/f1-data-project/erdos_ds_f1/cleaned_data/f1db-races-race-results-NO-DNF.csv\")\n",
    "results_data_file = pd.read_csv(r\"/home/winter-storm/f1-data-project/erdos_ds_f1/cleaned_data/f1db-races-race-results-CLEANED.csv\")\n",
    "pit_stop_data = pd.read_csv(r\"/home/winter-storm/f1-data-project/erdos_ds_f1/data_f1db/f1db-races-pit-stops.csv\")\n",
    "\n",
    "# Create list of unique race ids\n",
    "race_id_list = no_DNF_results_data_file['raceId'].unique()"
   ]
  },
  {
   "cell_type": "code",
   "execution_count": 10,
   "id": "05acb20b",
   "metadata": {},
   "outputs": [],
   "source": [
    "df = pit_stop_data[['raceId', 'driverId', 'lap', 'stop', 'timeMillis']].copy()\n",
    "prevdf = results_data_file[['raceId', 'driverId']].copy()\n",
    "df = prevdf.merge(df, on=['raceId', 'driverId'], how='left')\n",
    "\n",
    "# Sort for consistency\n",
    "df = df.sort_values(by=['driverId', 'raceId', 'lap'])\n",
    "\n",
    "# Compute avg stop lap from *prior* races\n",
    "def avg_prior_values(series):\n",
    "    return series.shift().expanding().mean()\n",
    "\n",
    "df['avgStopLap'] = (\n",
    "    df.groupby('driverId')['lap']\n",
    "      .transform(avg_prior_values)\n",
    ")\n",
    "\n",
    "df['avgStopTime'] = (\n",
    "    df.groupby('driverId')['timeMillis']\n",
    "      .transform(avg_prior_values)\n",
    ")\n",
    "\n",
    "df['avgStop'] = (\n",
    "    df.groupby('driverId')['stop']\n",
    "      .transform(avg_prior_values)\n",
    ")\n",
    "\n",
    "# Filter and reduce to one row per race-driver\n",
    "filtered_df = (\n",
    "    df[df['raceId'].isin(race_id_list)]\n",
    "    .drop_duplicates(subset=['driverId', 'raceId'])\n",
    "    .reset_index(drop=True)\n",
    "    .sort_values(by='raceId')\n",
    ")"
   ]
  },
  {
   "cell_type": "code",
   "execution_count": 6,
   "id": "66e7c445",
   "metadata": {},
   "outputs": [],
   "source": [
    "def get_avg_pit_stop(input_race_id_list):\n",
    "    avg_pits = []\n",
    "\n",
    "    for race_id in input_race_id_list:\n",
    "        this_race_data = filtered_df[filtered_df['raceId'] == race_id]\n",
    "        avg_pits.append({'raceId': race_id, \n",
    "                                'avgDriverLapStop': this_race_data['avgStopLap'].mean(),\n",
    "                                'avgDriverPSTime': this_race_data['avgStopTime'].mean(),\n",
    "                                'avgDriverStops': this_race_data['avgStop'].mean()})\n",
    "        \n",
    "    return pd.DataFrame(avg_pits)\n",
    "get_avg_pit_stop(race_id_list).to_csv('/home/winter-storm/f1-data-project/erdos_ds_f1/Patrick/Feature Testing Data Files/pits.csv',\n",
    "                                       index=False)"
   ]
  },
  {
   "cell_type": "code",
   "execution_count": 11,
   "id": "2ee8212a",
   "metadata": {},
   "outputs": [],
   "source": [
    "# Get the pit stop data\n",
    "pits_df = pd.read_csv(\"/home/winter-storm/f1-data-project/erdos_ds_f1/Patrick/Feature Data Files/pit stop data.csv\")\n",
    "\n",
    "# Define the weights and the columns\n",
    "columns = ['avgDriverPSTime', 'avgDriverLapStop', 'avgDriverStops']\n",
    "weights = np.array([-0.24215237,  0.31939236, -0.91616087])  # normalized weights\n",
    "\n",
    "# Standardize the data\n",
    "scaler = StandardScaler()\n",
    "X_standardized = scaler.fit_transform(pits_df[columns])  \n",
    "\n",
    "# Compute weighted sum\n",
    "pits_df['pitsWeightedSum'] = X_standardized @ weights\n",
    "\n",
    "\n",
    "pits_df.to_csv(\"/home/winter-storm/f1-data-project/erdos_ds_f1/Patrick/Feature Data Files/pit stop data.csv\", index=False)\n"
   ]
  }
 ],
 "metadata": {
  "kernelspec": {
   "display_name": "base",
   "language": "python",
   "name": "python3"
  },
  "language_info": {
   "codemirror_mode": {
    "name": "ipython",
    "version": 3
   },
   "file_extension": ".py",
   "mimetype": "text/x-python",
   "name": "python",
   "nbconvert_exporter": "python",
   "pygments_lexer": "ipython3",
   "version": "3.12.7"
  }
 },
 "nbformat": 4,
 "nbformat_minor": 5
}
