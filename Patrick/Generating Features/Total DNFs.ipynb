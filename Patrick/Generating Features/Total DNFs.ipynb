{
 "cells": [
  {
   "cell_type": "code",
   "execution_count": 1,
   "id": "ab634531",
   "metadata": {},
   "outputs": [],
   "source": [
    "import pandas as pd"
   ]
  },
  {
   "cell_type": "code",
   "execution_count": 2,
   "id": "8ff1a871",
   "metadata": {},
   "outputs": [],
   "source": [
    "results_data_file = pd.read_csv(r\"/home/winter-storm/f1-data-project/erdos_ds_f1/cleaned_data/f1db-races-race-results-CLEANED.csv\")\n",
    "race_id_list = results_data_file['raceId'].unique()"
   ]
  },
  {
   "cell_type": "code",
   "execution_count": 4,
   "id": "e17ca334",
   "metadata": {},
   "outputs": [],
   "source": [
    "# Get total number of DNF's for each race\n",
    "# Write a function that generates total number of DNF's for a given race_id list\n",
    "\n",
    "def generate_DNFs(input_race_id_list):\n",
    "    total_num_DNFS = []\n",
    "\n",
    "    for race_id in input_race_id_list:\n",
    "        general_race_data = results_data_file[results_data_file['raceId'] == race_id]\n",
    "        no_of_DNFs = 0\n",
    "\n",
    "        for x in general_race_data['positionText']:\n",
    "            if x == 'DNF':\n",
    "                no_of_DNFs += 1\n",
    "\n",
    "        total_num_DNFS.append({'raceId': race_id, 'totalDNFs': no_of_DNFs})\n",
    "    \n",
    "    return pd.DataFrame(total_num_DNFS)\n",
    "\n",
    "generate_DNFs(race_id_list).to_csv('/home/winter-storm/f1-data-project/erdos_ds_f1/Patrick/Feature Testing Data Files/DNFs.csv',\n",
    "                                   index=False)"
   ]
  }
 ],
 "metadata": {
  "kernelspec": {
   "display_name": "base",
   "language": "python",
   "name": "python3"
  },
  "language_info": {
   "codemirror_mode": {
    "name": "ipython",
    "version": 3
   },
   "file_extension": ".py",
   "mimetype": "text/x-python",
   "name": "python",
   "nbconvert_exporter": "python",
   "pygments_lexer": "ipython3",
   "version": "3.12.7"
  }
 },
 "nbformat": 4,
 "nbformat_minor": 5
}
