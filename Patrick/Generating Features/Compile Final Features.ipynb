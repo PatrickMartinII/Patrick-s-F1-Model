{
 "cells": [
  {
   "cell_type": "code",
   "execution_count": 1,
   "id": "330dfd05",
   "metadata": {},
   "outputs": [],
   "source": [
    "import pandas as pd\n",
    "from functools import reduce"
   ]
  },
  {
   "cell_type": "code",
   "execution_count": 2,
   "id": "85ea153a",
   "metadata": {},
   "outputs": [],
   "source": [
    "# Read files\n",
    "exp_df = pd.read_csv(r\"/home/winter-storm/f1-data-project/erdos_ds_f1/Patrick/Feature Data Files/driver exp data.csv\")\n",
    "pit_df = pd.read_csv(r\"/home/winter-storm/f1-data-project/erdos_ds_f1/Patrick/Feature Data Files/pit stop data.csv\")\n",
    "pre_race_df = pd.read_csv(r\"/home/winter-storm/f1-data-project/erdos_ds_f1/Patrick/Feature Data Files/pre race alpc data.csv\")\n",
    "cat_df = pd.read_csv(r\"/home/winter-storm/f1-data-project/erdos_ds_f1/Patrick/Feature Data Files/race categorical data.csv\")\n",
    "tccape_df = pd.read_csv(r\"/home/winter-storm/f1-data-project/erdos_ds_f1/Patrick/Feature Data Files/TCCAPE.csv\")\n",
    "cluster_df = pd.read_csv(r\"/home/winter-storm/f1-data-project/erdos_ds_f1/Patrick/Feature Data Files/time cluster data.csv\")\n",
    "top_ten_df = pd.read_csv(r\"/home/winter-storm/f1-data-project/erdos_ds_f1/Patrick/Feature Data Files/Top Ten Diversity.csv\")\n",
    "dnf_df = pd.read_csv(r\"/home/winter-storm/f1-data-project/erdos_ds_f1/Patrick/Feature Data Files/DNFs.csv\")\n",
    "gaps_df = pd.read_csv(r\"/home/winter-storm/f1-data-project/erdos_ds_f1/Patrick/Feature Data Files/gaps data.csv\")"
   ]
  },
  {
   "cell_type": "code",
   "execution_count": 3,
   "id": "213025bd",
   "metadata": {},
   "outputs": [],
   "source": [
    "exp_df = exp_df[['raceId', 'driverExpWeightedSum']]\n",
    "pit_df = pit_df[['raceId', 'pitsWeightedSum']]\n",
    "pre_race_df = pre_race_df[['raceId', 'preRaceALPCWeightedSum']]\n",
    "cluster_df = cluster_df[['raceId', 'clusterMeanWeightedSum']]\n",
    "gaps_df = gaps_df[['raceId', 'gapWeightedSum']]"
   ]
  },
  {
   "cell_type": "code",
   "execution_count": 4,
   "id": "c3fcbef5",
   "metadata": {},
   "outputs": [],
   "source": [
    "dataframes = [dnf_df, cat_df, top_ten_df, exp_df, pit_df, pre_race_df, tccape_df, cluster_df, gaps_df]\n",
    "features_df = reduce(lambda left, right: pd.merge(left, right, on='raceId', how='outer'), dataframes)\n",
    "features_df = features_df[features_df['raceId'] < 1126]\n",
    "features_df.to_csv('/home/winter-storm/f1-data-project/erdos_ds_f1/Patrick/Feature Data Files/final features.csv', \n",
    "                   index=False)"
   ]
  }
 ],
 "metadata": {
  "kernelspec": {
   "display_name": "base",
   "language": "python",
   "name": "python3"
  },
  "language_info": {
   "codemirror_mode": {
    "name": "ipython",
    "version": 3
   },
   "file_extension": ".py",
   "mimetype": "text/x-python",
   "name": "python",
   "nbconvert_exporter": "python",
   "pygments_lexer": "ipython3",
   "version": "3.12.7"
  }
 },
 "nbformat": 4,
 "nbformat_minor": 5
}
