{
 "cells": [
  {
   "cell_type": "code",
   "execution_count": 1,
   "id": "cfc833a2",
   "metadata": {},
   "outputs": [],
   "source": [
    "import pandas as pd\n",
    "import numpy as np\n",
    "from sklearn.preprocessing import StandardScaler"
   ]
  },
  {
   "cell_type": "code",
   "execution_count": 2,
   "id": "39acc8b2",
   "metadata": {},
   "outputs": [],
   "source": [
    "# read the files\n",
    "gaps_df = pd.read_csv(r\"/home/winter-storm/f1-data-project/erdos_ds_f1/Merlin preview/gaps and circuit type (cleaned).csv\")"
   ]
  },
  {
   "cell_type": "code",
   "execution_count": 3,
   "id": "61a8ae32",
   "metadata": {},
   "outputs": [],
   "source": [
    "gaps_df = gaps_df[['raceId', 'Bgap_mean', 'Bgap_median', 'Bgap_std', 'Bgap_var', 'First_ten_gap']]\n",
    "\n",
    "# Define the weights and the columns\n",
    "columns = ['Bgap_mean', 'Bgap_median', 'Bgap_std', 'Bgap_var', 'First_ten_gap']\n",
    "weights = np.array([-0.67235815, -0.00190674,  0.72911026, -0.05451739,  0.11557236])  # normalized weights\n",
    "\n",
    "# Standardize the data\n",
    "scaler = StandardScaler()\n",
    "X_standardized = scaler.fit_transform(gaps_df[columns])  \n",
    "\n",
    "# Compute weighted sum\n",
    "gaps_df['gapWeightedSum'] = X_standardized @ weights\n",
    "\n",
    "gaps_df.to_csv('/home/winter-storm/f1-data-project/erdos_ds_f1/Patrick/Feature Data Files/gaps data.csv',\n",
    "               index=False)"
   ]
  }
 ],
 "metadata": {
  "kernelspec": {
   "display_name": "base",
   "language": "python",
   "name": "python3"
  },
  "language_info": {
   "codemirror_mode": {
    "name": "ipython",
    "version": 3
   },
   "file_extension": ".py",
   "mimetype": "text/x-python",
   "name": "python",
   "nbconvert_exporter": "python",
   "pygments_lexer": "ipython3",
   "version": "3.12.7"
  }
 },
 "nbformat": 4,
 "nbformat_minor": 5
}
