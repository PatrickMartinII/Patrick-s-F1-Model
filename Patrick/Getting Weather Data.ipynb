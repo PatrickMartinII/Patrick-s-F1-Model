{
 "cells": [
  {
   "cell_type": "code",
   "execution_count": 1,
   "id": "c2e92def",
   "metadata": {},
   "outputs": [],
   "source": [
    "import requests\n",
    "import time\n",
    "import numpy as np\n",
    "import pandas as pd\n",
    "from tqdm import tqdm"
   ]
  },
  {
   "cell_type": "code",
   "execution_count": 2,
   "id": "00f35b0d",
   "metadata": {},
   "outputs": [],
   "source": [
    "location_df = pd.read_csv(r\"../data_f1db/f1db-circuits.csv\")\n",
    "location_df = location_df[['id', 'longitude', 'latitude']].rename(columns={'id': 'circuitId'})\n",
    "\n",
    "race_df = pd.read_csv(r\"../data_f1db/f1db-races.csv\")\n",
    "race_df = race_df[['id', 'year', 'date', 'circuitId']]\n",
    "race_df = race_df[(race_df['year'] > 1985) & (race_df['year'] < 2025)]\n",
    "\n",
    "weather_df = race_df.merge(location_df[['circuitId', 'latitude', 'longitude']], \n",
    "                            on='circuitId', \n",
    "                            how='left')"
   ]
  },
  {
   "cell_type": "code",
   "execution_count": 43,
   "id": "ae83fa49",
   "metadata": {},
   "outputs": [
    {
     "name": "stderr",
     "output_type": "stream",
     "text": [
      " 17%|█▋        | 120/705 [02:32<12:37,  1.30s/it]"
     ]
    },
    {
     "name": "stdout",
     "output_type": "stream",
     "text": [
      "Failed to fetch for 1993-07-11 at (52.078611, -1.016944): HTTPSConnectionPool(host='archive-api.open-meteo.com', port=443): Read timed out. (read timeout=10)\n"
     ]
    },
    {
     "name": "stderr",
     "output_type": "stream",
     "text": [
      " 33%|███▎      | 234/705 [05:06<10:20,  1.32s/it]"
     ]
    },
    {
     "name": "stdout",
     "output_type": "stream",
     "text": [
      "Failed to fetch for 2000-07-02 at (46.863242, 3.164228): HTTPSConnectionPool(host='archive-api.open-meteo.com', port=443): Read timed out. (read timeout=10)\n"
     ]
    },
    {
     "name": "stderr",
     "output_type": "stream",
     "text": [
      " 35%|███▌      | 248/705 [05:34<10:13,  1.34s/it]"
     ]
    },
    {
     "name": "stdout",
     "output_type": "stream",
     "text": [
      "Failed to fetch for 2001-05-13 at (47.219722, 14.764722): HTTPSConnectionPool(host='archive-api.open-meteo.com', port=443): Read timed out. (read timeout=10)\n"
     ]
    },
    {
     "name": "stderr",
     "output_type": "stream",
     "text": [
      " 42%|████▏     | 298/705 [06:48<08:34,  1.26s/it]"
     ]
    },
    {
     "name": "stdout",
     "output_type": "stream",
     "text": [
      "Failed to fetch for 2004-05-23 at (43.734722, 7.420556): HTTPSConnectionPool(host='archive-api.open-meteo.com', port=443): Read timed out. (read timeout=10)\n"
     ]
    },
    {
     "name": "stderr",
     "output_type": "stream",
     "text": [
      " 56%|█████▋    | 397/705 [08:59<07:05,  1.38s/it]"
     ]
    },
    {
     "name": "stdout",
     "output_type": "stream",
     "text": [
      "Failed to fetch for 2009-10-04 at (34.843056, 136.540556): HTTPSConnectionPool(host='archive-api.open-meteo.com', port=443): Read timed out. (read timeout=10)\n"
     ]
    },
    {
     "name": "stderr",
     "output_type": "stream",
     "text": [
      " 84%|████████▍ | 591/705 [13:14<02:28,  1.30s/it]"
     ]
    },
    {
     "name": "stdout",
     "output_type": "stream",
     "text": [
      "Failed to fetch for 2019-09-22 at (1.291531, 103.86385): HTTPSConnectionPool(host='archive-api.open-meteo.com', port=443): Read timed out. (read timeout=10)\n"
     ]
    },
    {
     "name": "stderr",
     "output_type": "stream",
     "text": [
      " 86%|████████▌ | 607/705 [13:42<01:52,  1.15s/it]"
     ]
    },
    {
     "name": "stdout",
     "output_type": "stream",
     "text": [
      "Failed to fetch for 2020-09-27 at (43.410278, 39.968271): HTTPSConnectionPool(host='archive-api.open-meteo.com', port=443): Read timed out. (read timeout=10)\n"
     ]
    },
    {
     "name": "stderr",
     "output_type": "stream",
     "text": [
      "100%|██████████| 705/705 [15:50<00:00,  1.35s/it]\n"
     ]
    }
   ],
   "source": [
    "def fetch_daily_weather(df):\n",
    "    weather_data = {\n",
    "        'temperature_max': [],\n",
    "        'temperature_min': [],\n",
    "        'precipitation_mm': []\n",
    "    }\n",
    "\n",
    "    for _, row in tqdm(df.iterrows(), total=len(df)):\n",
    "        lat = row['latitude']\n",
    "        lon = row['longitude']\n",
    "        date_str = pd.to_datetime(row['date']).strftime('%Y-%m-%d')\n",
    "\n",
    "        url = (\n",
    "            \"https://archive-api.open-meteo.com/v1/archive\"\n",
    "            f\"?latitude={lat}&longitude={lon}\"\n",
    "            f\"&start_date={date_str}&end_date={date_str}\"\n",
    "            \"&daily=temperature_2m_max,temperature_2m_min,precipitation_sum\"\n",
    "            \"&timezone=UTC\"\n",
    "        )\n",
    "\n",
    "        try:\n",
    "            resp = requests.get(url, timeout=10)\n",
    "            resp.raise_for_status()\n",
    "            data = resp.json().get('daily', {})\n",
    "\n",
    "            # Extract weather data for the one day\n",
    "            weather_data['temperature_max'].append(data.get('temperature_2m_max', [None])[0])\n",
    "            weather_data['temperature_min'].append(data.get('temperature_2m_min', [None])[0])\n",
    "            weather_data['precipitation_mm'].append(data.get('precipitation_sum', [None])[0])\n",
    "\n",
    "        except Exception as e:\n",
    "            print(f\"Failed to fetch for {date_str} at ({lat}, {lon}): {e}\")\n",
    "            weather_data['temperature_max'].append(None)\n",
    "            weather_data['temperature_min'].append(None)\n",
    "            weather_data['precipitation_mm'].append(None)\n",
    "\n",
    "        time.sleep(0.5)  # Be nice to the API and avoid rate limits\n",
    "\n",
    "    # Add the data as new columns\n",
    "    df['temperature_max'] = weather_data['temperature_max']\n",
    "    df['temperature_min'] = weather_data['temperature_min']\n",
    "    df['precipitation_mm'] = weather_data['precipitation_mm']\n",
    "\n",
    "    return df\n",
    "\n",
    "weather_df = fetch_daily_weather(weather_df)\n",
    "weather_df.to_csv(\"race-weather-data.csv\", index=False)"
   ]
  },
  {
   "cell_type": "code",
   "execution_count": 44,
   "id": "7caca450",
   "metadata": {},
   "outputs": [],
   "source": [
    "def retry_specific_failures(weather_df, retry_rows):\n",
    "    for entry in retry_rows:\n",
    "        date_str = entry[\"date\"]\n",
    "        lat = entry[\"latitude\"]\n",
    "        lon = entry[\"longitude\"]\n",
    "\n",
    "        url = (\n",
    "            \"https://archive-api.open-meteo.com/v1/archive\"\n",
    "            f\"?latitude={lat}&longitude={lon}\"\n",
    "            f\"&start_date={date_str}&end_date={date_str}\"\n",
    "            \"&daily=temperature_2m_max,temperature_2m_min,precipitation_sum\"\n",
    "            \"&timezone=UTC\"\n",
    "        )\n",
    "\n",
    "        try:\n",
    "            resp = requests.get(url, timeout=10)\n",
    "            resp.raise_for_status()\n",
    "            data = resp.json().get('daily', {})\n",
    "\n",
    "            if data and all(data.values()):\n",
    "                tmax = data.get('temperature_2m_max', [None])[0]\n",
    "                tmin = data.get('temperature_2m_min', [None])[0]\n",
    "                precip = data.get('precipitation_sum', [None])[0]\n",
    "\n",
    "                # Match the row in your dataframe (based on date and approximate lat/lon)\n",
    "                mask = (\n",
    "                    (weather_df['date'] == date_str) &\n",
    "                    (weather_df['latitude'].round(5) == round(lat, 5)) &\n",
    "                    (weather_df['longitude'].round(5) == round(lon, 5))\n",
    "                )\n",
    "\n",
    "                weather_df.loc[mask, 'temperature_max'] = tmax\n",
    "                weather_df.loc[mask, 'temperature_min'] = tmin\n",
    "                weather_df.loc[mask, 'precipitation_mm'] = precip\n",
    "\n",
    "                print(f\"✔ Updated weather for {date_str} at ({lat}, {lon})\")\n",
    "\n",
    "            else:\n",
    "                print(f\"⚠ No data available for {date_str} at ({lat}, {lon})\")\n",
    "\n",
    "        except Exception as e:\n",
    "            print(f\"❌ Retry failed for {date_str} at ({lat}, {lon}): {e}\")\n",
    "\n",
    "        time.sleep(0.5)\n",
    "\n",
    "    return weather_df"
   ]
  },
  {
   "cell_type": "code",
   "execution_count": null,
   "id": "42fdb376",
   "metadata": {},
   "outputs": [
    {
     "name": "stdout",
     "output_type": "stream",
     "text": [
      "✔ Updated weather for 2004-05-23 at (43.734722, 7.420556)\n",
      "✔ Updated weather for 2009-10-04 at (34.843056, 136.540556)\n",
      "✔ Updated weather for 2019-09-22 at (1.291531, 103.86385)\n",
      "✔ Updated weather for 2020-09-27 at (43.410278, 39.968271)\n"
     ]
    }
   ],
   "source": [
    "retry_rows = [\n",
    "    {\"date\": \"2004-05-23\", \"latitude\": 43.734722, \"longitude\": 7.420556},\n",
    "    {\"date\": \"2009-10-04\", \"latitude\": 34.843056, \"longitude\": 136.540556},\n",
    "    {\"date\": \"2019-09-22\", \"latitude\": 1.291531, \"longitude\": 103.86385},\n",
    "    {\"date\": \"2020-09-27\", \"latitude\": 43.410278, \"longitude\": 39.968271},\n",
    "]\n",
    "\n",
    "weather_df = retry_specific_failures(weather_df, retry_rows)\n",
    "weather_df = weather_df.rename(columns={'id': 'raceId'})"
   ]
  },
  {
   "cell_type": "code",
   "execution_count": 4,
   "id": "42c69a3e",
   "metadata": {},
   "outputs": [],
   "source": [
    "weather_df = pd.read_csv(r\"../Patrick/race-weather-data.csv\")\n",
    "\n",
    "weather_df['rain'] = np.where(weather_df['precipitation_mm']  == 0, 'none', \n",
    "                              np.where(weather_df['precipitation_mm'] <= 2.4, 'light',\n",
    "                                       np.where(weather_df['precipitation_mm'] <= 7.5, 'moderate', 'heavy')\n",
    "                                       )\n",
    "                              )\n",
    "\n",
    "weather_df.to_csv(\"race-weather-data.csv\", index=False)"
   ]
  }
 ],
 "metadata": {
  "kernelspec": {
   "display_name": "base",
   "language": "python",
   "name": "python3"
  },
  "language_info": {
   "codemirror_mode": {
    "name": "ipython",
    "version": 3
   },
   "file_extension": ".py",
   "mimetype": "text/x-python",
   "name": "python",
   "nbconvert_exporter": "python",
   "pygments_lexer": "ipython3",
   "version": "3.12.7"
  }
 },
 "nbformat": 4,
 "nbformat_minor": 5
}
