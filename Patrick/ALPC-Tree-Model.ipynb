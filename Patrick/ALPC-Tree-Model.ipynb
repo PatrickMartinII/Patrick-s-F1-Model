{
 "cells": [
  {
   "cell_type": "code",
   "execution_count": 6,
   "id": "a92be551",
   "metadata": {},
   "outputs": [],
   "source": [
    "import pandas as pd\n",
    "from sklearn.model_selection import train_test_split\n",
    "from sklearn.tree import DecisionTreeRegressor\n",
    "from sklearn.model_selection import KFold\n",
    "from sklearn.metrics import mean_squared_error, r2_score\n",
    "from sklearn.preprocessing import LabelEncoder"
   ]
  },
  {
   "cell_type": "code",
   "execution_count": 21,
   "id": "63ddcacb",
   "metadata": {},
   "outputs": [],
   "source": [
    "# Load your dataset\n",
    "df = pd.read_csv(\"race_predictor_data.csv\")\n",
    "\n",
    "# Define features and target\n",
    "features = ['averageCumRacerPoints', 'qualifyingALPC', 'averageDriverExpYears', \n",
    "            'avgDriverRaceCount', 'FRALPC', 'absolute_position_diff', 'topTenDiversity', 'circuitId', 'countryId']\n",
    "target = 'totalDNFs'\n",
    "\n",
    "X = df[features]\n",
    "y = df[target]"
   ]
  },
  {
   "cell_type": "code",
   "execution_count": 22,
   "id": "e8d345eb",
   "metadata": {},
   "outputs": [],
   "source": [
    "# If categorical features are present, encode them (e.g., with one-hot or label encoding)\n",
    "# For simplicity, let's label encode here:\n",
    "for col in ['topTenDiversity', 'circuitId', 'countryId']:\n",
    "    le = LabelEncoder()\n",
    "    X.loc[:, col] = le.fit_transform(X[col])"
   ]
  },
  {
   "cell_type": "code",
   "execution_count": 24,
   "id": "fc84d0fa",
   "metadata": {},
   "outputs": [
    {
     "name": "stdout",
     "output_type": "stream",
     "text": [
      "\n",
      "--- Fold 1 ---\n",
      "MSE: 9.1782\n",
      "R²: 0.4934\n",
      "\n",
      "--- Fold 2 ---\n",
      "MSE: 7.8416\n",
      "R²: 0.5952\n",
      "\n",
      "--- Fold 3 ---\n",
      "MSE: 8.7426\n",
      "R²: 0.5403\n",
      "\n",
      "--- Fold 4 ---\n",
      "MSE: 7.6337\n",
      "R²: 0.6307\n",
      "\n",
      "--- Fold 5 ---\n",
      "MSE: 9.6238\n",
      "R²: 0.4838\n",
      "\n",
      "--- Fold 6 ---\n",
      "MSE: 8.8300\n",
      "R²: 0.5728\n",
      "\n",
      "--- Fold 7 ---\n",
      "MSE: 11.0900\n",
      "R²: 0.4345\n",
      "\n",
      "=== Average Performance Across Folds ===\n",
      "Average MSE: 8.9914\n",
      "Average R²: 0.5358\n"
     ]
    }
   ],
   "source": [
    "kf = KFold(n_splits=7, shuffle=True, random_state=7)\n",
    "\n",
    "mse_scores = []\n",
    "r2_scores = []\n",
    "\n",
    "for fold, (train_idx, val_idx) in enumerate(kf.split(X)):\n",
    "    print(f\"\\n--- Fold {fold + 1} ---\")\n",
    "    \n",
    "    X_train, X_val = X.iloc[train_idx], X.iloc[val_idx]\n",
    "    y_train, y_val = y.iloc[train_idx], y.iloc[val_idx]\n",
    "\n",
    "    # Model\n",
    "    model = DecisionTreeRegressor(random_state=42)\n",
    "    model.fit(X_train, y_train)\n",
    "\n",
    "    # Predict and evaluate\n",
    "    y_pred = model.predict(X_val)\n",
    "    mse = mean_squared_error(y_val, y_pred)\n",
    "    r2 = r2_score(y_val, y_pred)\n",
    "\n",
    "    print(f\"MSE: {mse:.4f}\")\n",
    "    print(f\"R²: {r2:.4f}\")\n",
    "\n",
    "    mse_scores.append(mse)\n",
    "    r2_scores.append(r2)\n",
    "\n",
    "# Average results\n",
    "print(\"\\n=== Average Performance Across Folds ===\")\n",
    "print(f\"Average MSE: {sum(mse_scores)/len(mse_scores):.4f}\")\n",
    "print(f\"Average R²: {sum(r2_scores)/len(r2_scores):.4f}\")"
   ]
  },
  {
   "cell_type": "code",
   "execution_count": 25,
   "id": "6a41bf54",
   "metadata": {},
   "outputs": [],
   "source": [
    "# Split into train and test sets\n",
    "X_train, X_test, y_train, y_test = train_test_split(X, y, test_size=0.2, random_state=7)\n",
    "\n",
    "# Initialize and train the decision tree regressor\n",
    "tree_model = DecisionTreeRegressor(random_state=42)\n",
    "tree_model.fit(X_train, y_train)\n",
    "\n",
    "# Predict on test set\n",
    "y_pred = tree_model.predict(X_test)"
   ]
  },
  {
   "cell_type": "code",
   "execution_count": 26,
   "id": "bb588c4c",
   "metadata": {},
   "outputs": [
    {
     "name": "stdout",
     "output_type": "stream",
     "text": [
      "Test Set MSE: 8.8298\n",
      "Test Set R²: 0.5163\n"
     ]
    }
   ],
   "source": [
    "# Evaluate\n",
    "mse = mean_squared_error(y_test, y_pred)\n",
    "r2 = r2_score(y_test, y_pred)\n",
    "\n",
    "print(f\"Test Set MSE: {mse:.4f}\")\n",
    "print(f\"Test Set R²: {r2:.4f}\")"
   ]
  }
 ],
 "metadata": {
  "kernelspec": {
   "display_name": "base",
   "language": "python",
   "name": "python3"
  },
  "language_info": {
   "codemirror_mode": {
    "name": "ipython",
    "version": 3
   },
   "file_extension": ".py",
   "mimetype": "text/x-python",
   "name": "python",
   "nbconvert_exporter": "python",
   "pygments_lexer": "ipython3",
   "version": "3.12.7"
  }
 },
 "nbformat": 4,
 "nbformat_minor": 5
}
